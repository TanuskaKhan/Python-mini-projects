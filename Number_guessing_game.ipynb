{
  "nbformat": 4,
  "nbformat_minor": 0,
  "metadata": {
    "colab": {
      "provenance": []
    },
    "kernelspec": {
      "name": "python3",
      "display_name": "Python 3"
    },
    "language_info": {
      "name": "python"
    }
  },
  "cells": [
    {
      "cell_type": "code",
      "execution_count": 2,
      "metadata": {
        "colab": {
          "base_uri": "https://localhost:8080/"
        },
        "id": "q4emPfeoexEc",
        "outputId": "dcf56f64-0902-4638-beec-ebc203ee582c"
      },
      "outputs": [
        {
          "output_type": "stream",
          "name": "stdout",
          "text": [
            "Hello I'm Tanuska and you?Lamisa\n",
            "Welcome to the game, Lamisa\n",
            "Guess the number (0-9):3\n",
            "Too low. Try again\n",
            "Guess the number (0-9):4\n",
            "Correct. You guessed it in 2 tries\n",
            "Do you wanna play again? (Yes/No):no\n",
            "Thanks for playing, Lamisa\n"
          ]
        }
      ],
      "source": [
        "import random\n",
        "\n",
        "def guess_the_number():\n",
        "  name=input(\"Hello I'm Tanuska and you?\" )\n",
        "  print(f\"Welcome to the game, {name}\")\n",
        "  tum=[0,1,2,3,4,5,6,7,8,9]\n",
        "  x=random.choice(tum)\n",
        "  attempt= 0\n",
        "  guess=-1\n",
        "  while guess!=x:\n",
        "    guess=int(input(\"Guess the number (0-9):\"))\n",
        "    attempt+=1\n",
        "\n",
        "    if guess<x:\n",
        "      print(\"Too low. Try again\")\n",
        "    elif guess>x:\n",
        "      print(\"Too high. Try again\")\n",
        "    else:\n",
        "      print(f\"Correct. You guessed it in {attempt} tries\")\n",
        "\n",
        "  play_again= input(\"Do you wanna play again? (Yes/No):\").lower()\n",
        "  if play_again==\"yes\":\n",
        "    guess_the_number()\n",
        "  else:\n",
        "    print(f\"Thanks for playing, {name}\")\n",
        "\n",
        "\n",
        "guess_the_number()"
      ]
    }
  ]
}