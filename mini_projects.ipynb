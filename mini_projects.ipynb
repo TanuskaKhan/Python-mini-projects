{
  "nbformat": 4,
  "nbformat_minor": 0,
  "metadata": {
    "colab": {
      "provenance": []
    },
    "kernelspec": {
      "name": "python3",
      "display_name": "Python 3"
    },
    "language_info": {
      "name": "python"
    }
  },
  "cells": [
    {
      "cell_type": "markdown",
      "source": [
        "number guessing game"
      ],
      "metadata": {
        "id": "KNRRK-29MFbJ"
      }
    },
    {
      "cell_type": "code",
      "execution_count": 11,
      "metadata": {
        "colab": {
          "base_uri": "https://localhost:8080/"
        },
        "id": "xKBNV7fjDEnY",
        "outputId": "81aedbba-7589-459c-a7d3-b5d540530008"
      },
      "outputs": [
        {
          "output_type": "stream",
          "name": "stdout",
          "text": [
            "Hello im Tanuska and you?Lamisa\n",
            "Welcome to the game Lamisa\n",
            "Guess the number (0-9):7\n",
            "Too high. Try again\n",
            "Guess the number (0-9):4\n",
            "Too high. Try again\n",
            "Guess the number (0-9):2\n",
            "Too high. Try again\n",
            "Guess the number (0-9):1\n",
            "Correct. You guessed it in 4 tries\n",
            "Do you wanna play again? (Yes/No):no\n",
            "Thanks for playing, Lamisa\n"
          ]
        }
      ],
      "source": [
        "import random\n",
        "\n",
        "def guess_the_number():\n",
        "  name=input(\"Hello I'm Tanuska and you?\" )\n",
        "  print(f\"Welcome to the game, {name}\")\n",
        "  tum=[0,1,2,3,4,5,6,7,8,9]\n",
        "  x=random.choice(tum)\n",
        "  attempt= 0\n",
        "  guess=-1\n",
        "  while guess!=x:\n",
        "    guess=int(input(\"Guess the number (0-9):\"))\n",
        "    attempt+=1\n",
        "\n",
        "    if guess<x:\n",
        "      print(\"Too low. Try again\")\n",
        "    elif guess>x:\n",
        "      print(\"Too high. Try again\")\n",
        "    else:\n",
        "      print(f\"Correct. You guessed it in {attempt} tries\")\n",
        "\n",
        "  play_again= input(\"Do you wanna play again? (Yes/No):\").lower()\n",
        "  if play_again==\"yes\":\n",
        "    guess_the_number()\n",
        "  else:\n",
        "    print(f\"Thanks for playing, {name}\")\n",
        "\n",
        "\n",
        "  guess_the_number()\n",
        ""
      ]
    },
    {
      "cell_type": "markdown",
      "source": [
        "To-Do list"
      ],
      "metadata": {
        "id": "QpZf1FFxSC6w"
      }
    },
    {
      "cell_type": "code",
      "source": [
        "\n",
        "def to_do():\n",
        "  tasks=[]\n",
        "  while True:\n",
        "    print(\"\\n---TO DO LIST---\")\n",
        "    print(\"1. View tasks\")\n",
        "    print(\"2. Add a task\")\n",
        "    print(\"3. Remove a task\")\n",
        "    print(\"4. Exit\")\n",
        "\n",
        "    x=input(f'Enter your choice between (1-3):')\n",
        "    if x==\"1\":\n",
        "      if len(tasks)>0:\n",
        "        i=1\n",
        "        for t in tasks:\n",
        "          print(f\"{i}.{t}\")\n",
        "          i+=1\n",
        "      else:\n",
        "        print(\"Your list is empty!\")\n",
        "    elif x==\"2\":\n",
        "      task=input(\"Add your task:\")\n",
        "      tasks.append(task)\n",
        "      print(f\"{task} has been added!\")\n",
        "    elif x==\"3\":\n",
        "      z=tasks.pop(int(input(\"enter the number of task you wanna remove:\"))-1)\n",
        "      print(\"Removed successfully\")\n",
        "    elif x==\"4\":\n",
        "      print(\"Goodbye!\")\n",
        "      break\n",
        "\n",
        "to_do()"
      ],
      "metadata": {
        "colab": {
          "base_uri": "https://localhost:8080/"
        },
        "id": "1PUluOcaSCmt",
        "outputId": "b08b30e9-a31e-45d7-d511-bf5deec177f8"
      },
      "execution_count": 19,
      "outputs": [
        {
          "output_type": "stream",
          "name": "stdout",
          "text": [
            "\n",
            "---TO DO LIST---\n",
            "1. View tasks\n",
            "2. Add a task\n",
            "3. Remove a task\n",
            "4. Exit\n",
            "Enter your choice between (1-3):1\n",
            "Your list is empty!\n",
            "\n",
            "---TO DO LIST---\n",
            "1. View tasks\n",
            "2. Add a task\n",
            "3. Remove a task\n",
            "4. Exit\n",
            "Enter your choice between (1-3):2\n",
            "Add your task:coding\n",
            "coding has been added!\n",
            "\n",
            "---TO DO LIST---\n",
            "1. View tasks\n",
            "2. Add a task\n",
            "3. Remove a task\n",
            "4. Exit\n",
            "Enter your choice between (1-3):1\n",
            "1.coding\n",
            "\n",
            "---TO DO LIST---\n",
            "1. View tasks\n",
            "2. Add a task\n",
            "3. Remove a task\n",
            "4. Exit\n",
            "Enter your choice between (1-3):1\n",
            "1.coding\n",
            "\n",
            "---TO DO LIST---\n",
            "1. View tasks\n",
            "2. Add a task\n",
            "3. Remove a task\n",
            "4. Exit\n",
            "Enter your choice between (1-3):2\n",
            "Add your task:reading\n",
            "reading has been added!\n",
            "\n",
            "---TO DO LIST---\n",
            "1. View tasks\n",
            "2. Add a task\n",
            "3. Remove a task\n",
            "4. Exit\n",
            "Enter your choice between (1-3):2\n",
            "Add your task:playing\n",
            "playing has been added!\n",
            "\n",
            "---TO DO LIST---\n",
            "1. View tasks\n",
            "2. Add a task\n",
            "3. Remove a task\n",
            "4. Exit\n",
            "Enter your choice between (1-3):writing\n",
            "\n",
            "---TO DO LIST---\n",
            "1. View tasks\n",
            "2. Add a task\n",
            "3. Remove a task\n",
            "4. Exit\n",
            "Enter your choice between (1-3):1\n",
            "1.coding\n",
            "2.reading\n",
            "3.playing\n",
            "\n",
            "---TO DO LIST---\n",
            "1. View tasks\n",
            "2. Add a task\n",
            "3. Remove a task\n",
            "4. Exit\n",
            "Enter your choice between (1-3):4\n",
            "Goodbye!\n"
          ]
        }
      ]
    }
  ]
}